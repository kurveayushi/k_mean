{
 "cells": [
  {
   "cell_type": "code",
   "execution_count": 3,
   "id": "b7c79775",
   "metadata": {},
   "outputs": [
    {
     "ename": "SyntaxError",
     "evalue": "invalid syntax (2987402584.py, line 4)",
     "output_type": "error",
     "traceback": [
      "\u001b[1;36m  Cell \u001b[1;32mIn[3], line 4\u001b[1;36m\u001b[0m\n\u001b[1;33m    for i in range n:\u001b[0m\n\u001b[1;37m                   ^\u001b[0m\n\u001b[1;31mSyntaxError\u001b[0m\u001b[1;31m:\u001b[0m invalid syntax\n"
     ]
    }
   ],
   "source": [
    "#interview questions\n",
    "'''\n",
    "def Age(m1,m2,m3,m):\n",
    "    for i in range Age.len():\n",
    "        if Age[i]%2==0:\n",
    "            print(f\"member {n} age is not having prime no. \")\n",
    "        \n",
    "\n",
    "age(1,3,42,50)'''\n"
   ]
  },
  {
   "cell_type": "code",
   "execution_count": null,
   "id": "2871f146",
   "metadata": {},
   "outputs": [],
   "source": [
    "def check(sname):\n",
    "   # check=['sharma','yadav','gupta']\n",
    "    sname_list={\n",
    "    A:'sharma',\n",
    "    B:'yadav',\n",
    "    C:'gupta'\n",
    "    }\n",
    "    if sname==sname_list[A]\n",
    "     \n",
    "n=input(int(\"enter the no of peoples:\"))   \n",
    " for i in range(n):\n",
    "    sname=input(int('enter the surname:'))\n",
    "    check(sname)"
   ]
  },
  {
   "cell_type": "code",
   "execution_count": 9,
   "id": "b48fcf30",
   "metadata": {},
   "outputs": [
    {
     "name": "stdout",
     "output_type": "stream",
     "text": [
      "a if having even no of index: 0\n",
      "o if having even no of index: 2\n",
      "i if having even no of index: 4\n"
     ]
    }
   ],
   "source": [
    "vowels=('a','e','o','u','i')\n",
    "for i in range(len(vowels)):\n",
    "    if i%2==0:\n",
    "        print(f\"{vowels[i]} if having even no of index: {i}\")"
   ]
  },
  {
   "cell_type": "code",
   "execution_count": 23,
   "id": "8ba0911e",
   "metadata": {},
   "outputs": [
    {
     "name": "stdout",
     "output_type": "stream",
     "text": [
      "6\n",
      "50000\n",
      "the employe e3 is having 50000 as a middle salary \n"
     ]
    }
   ],
   "source": [
    "name=['e1','e2','e3','e4','e5']\n",
    "salary=[20000,30000,50000,40000,45000,15000]\n",
    "#for i in range(len(salary)):\n",
    "i=len(salary)\n",
    "print(f\"{i}\")\n",
    "start=0\n",
    "end=i-1\n",
    "mid=int(start+end/2);\n",
    "'''print(f\"{start}\")\n",
    "print(f\"{end}\")\n",
    "print(f\"{mid}\")'''\n",
    "print(f\"{salary[mid]}\")\n",
    "print(f\"the employe {name[mid]} is having {salary[mid]} as a middle salary \")\n",
    "\n",
    "# in another way\n",
    "for i in range(len(salary)):\n",
    "    for j=i+1 in range(len(salary)-1):\n",
    "    if salary[i]>salary[j]:\n",
    "        salary[i]\n",
    "    "
   ]
  },
  {
   "cell_type": "code",
   "execution_count": 12,
   "id": "9dc535bc",
   "metadata": {},
   "outputs": [],
   "source": [
    "no=[\"62012\",\"502014\",\"50001\"]\n",
    "numlist=[]\n",
    "for n in no:\n",
    "    numlist.append(no)\n",
    "       # if no[i]==201:\n",
    "\n",
    "            print(\"launch the model\")\n",
    "        else:\n",
    "            print(\"model will not launch\")"
   ]
  },
  {
   "cell_type": "code",
   "execution_count": 14,
   "id": "a9ecd6cf",
   "metadata": {},
   "outputs": [
    {
     "ename": "SyntaxError",
     "evalue": "unterminated string literal (detected at line 8) (2867934250.py, line 8)",
     "output_type": "error",
     "traceback": [
      "\u001b[1;36m  Cell \u001b[1;32mIn[14], line 8\u001b[1;36m\u001b[0m\n\u001b[1;33m    print(f\"student with name {names[i]}  is not selected for code unnati training)\u001b[0m\n\u001b[1;37m          ^\u001b[0m\n\u001b[1;31mSyntaxError\u001b[0m\u001b[1;31m:\u001b[0m unterminated string literal (detected at line 8)\n"
     ]
    }
   ],
   "source": [
    "print(\"hello sir\")\n",
    "marks=[36,30,25,40,20,11]\n",
    "names=['abc','mno','pqr','xyz','str']\n",
    "for i in range(len(marks)):\n",
    "    if len[i]>=30:\n",
    "        print(f\"student with name {names[i]} selected for code unnati training\")\n",
    "        else:\n",
    "            print(f\"student with name {names[i]}  is not selected for code unnati training)"
   ]
  },
  {
   "cell_type": "code",
   "execution_count": null,
   "id": "c71eb56f",
   "metadata": {},
   "outputs": [],
   "source": []
  }
 ],
 "metadata": {
  "kernelspec": {
   "display_name": "Python 3 (ipykernel)",
   "language": "python",
   "name": "python3"
  },
  "language_info": {
   "codemirror_mode": {
    "name": "ipython",
    "version": 3
   },
   "file_extension": ".py",
   "mimetype": "text/x-python",
   "name": "python",
   "nbconvert_exporter": "python",
   "pygments_lexer": "ipython3",
   "version": "3.11.4"
  }
 },
 "nbformat": 4,
 "nbformat_minor": 5
}
