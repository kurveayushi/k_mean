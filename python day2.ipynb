{
 "cells": [
  {
   "cell_type": "code",
   "execution_count": 19,
   "id": "a80a3372",
   "metadata": {},
   "outputs": [
    {
     "data": {
      "text/plain": [
       "'face'"
      ]
     },
     "execution_count": 19,
     "metadata": {},
     "output_type": "execute_result"
    }
   ],
   "source": [
    "#STRING INDEXING\n",
    "str1=\"face\"\n",
    "str1[0],str1[1],str1[2],str1[3]\n",
    "str1[0:4]   #0 to 4-1 index\n",
    "#str1[0:3]  #0 to 3-1 index\n",
    "#str1[0:2]  #0 to 2-1 index\n",
    "#str1[1:2]  #1 to 2-1 index\n",
    "#str1[2:2]  #return null string or char\n",
    "#str1[3:2]  #return null string or char\n",
    "str1[::]"
   ]
  },
  {
   "cell_type": "code",
   "execution_count": 37,
   "id": "c0cba520",
   "metadata": {},
   "outputs": [
    {
     "name": "stdout",
     "output_type": "stream",
     "text": [
      " HOUSE IS BEAUTIFUL  \n",
      " house is beautiful  \n",
      " House Is Beautiful  \n",
      "House is beautiful  \n",
      " House is beautiful\n"
     ]
    }
   ],
   "source": [
    "#STRING FUNCTIONS\n",
    "str2=\" House is beautiful \"\n",
    "str2[1:6:1]#initial index,ending index(n-1),space\n",
    "print(str2.upper())\n",
    "print(str2.lower())\n",
    "print(str2.title()) #--makes initial char uppercase\n",
    "print(str2.lstrip()) #--removes the whitespace in left\n",
    "print(str2.rstrip()) #--removes the whitespace in right"
   ]
  },
  {
   "cell_type": "code",
   "execution_count": 42,
   "id": "413f649f",
   "metadata": {},
   "outputs": [
    {
     "name": "stdout",
     "output_type": "stream",
     "text": [
      "hello my name is ayushi and i registered for code unnati\n"
     ]
    }
   ],
   "source": [
    "#FORMATING -ADDING VARIABLES TO THE STATEMENTS\n",
    "name='ayushi'\n",
    "course=\"code unnati\"\n",
    "print(f\"hello my name is {name} and i registered for {course}\") #-- \"f\" here stands for formatting to format the print stmt"
   ]
  },
  {
   "cell_type": "code",
   "execution_count": null,
   "id": "199f823d",
   "metadata": {},
   "outputs": [],
   "source": [
    "#CASING= FOR MAKING VARIABLES UNDERSTANDABLE\n",
    "'''SNAKE=\"roll_no\"----uses\"-\"\n",
    "   KEBAB=\"roll-no\"---uses\"_\"\n",
    "   CAMEL=\"rollNoStudent\"---initial char of inital word is  word lower \n",
    "   PASCEL=\"RollNoStudent\"--initial char of inital word is  word upper \n",
    "'''"
   ]
  },
  {
   "cell_type": "code",
   "execution_count": 47,
   "id": "f5f29e41",
   "metadata": {},
   "outputs": [
    {
     "name": "stdout",
     "output_type": "stream",
     "text": [
      "['ayushi', 35, 'cse']\n",
      "ayushi\n",
      "cse\n",
      "35\n"
     ]
    }
   ],
   "source": [
    "#LIST DATATYPE =list is ordered and changable\n",
    "list1=[\"ayushi\",35,\"cse\"]\n",
    "print(list1)\n",
    "print(list1[0])\n",
    "print(list1[2])\n",
    "print(list1[1])"
   ]
  },
  {
   "cell_type": "code",
   "execution_count": 88,
   "id": "e4ac6bea",
   "metadata": {},
   "outputs": [
    {
     "name": "stdout",
     "output_type": "stream",
     "text": [
      "['apple', 'orange', 'mango', 'guava']\n",
      "['apple', 'cherry', 'mango', 'guava']\n",
      "['apple', 'strawberry', 'cherry', 'mango', 'guava']\n",
      "['apple', 'strawberry', 'cherry', 'guava']\n",
      "['apple', 'cherry', 'guava', 'strawberry']\n"
     ]
    }
   ],
   "source": [
    "#LIST METHODS\n",
    "\n",
    "#APPEND = ADD AT THE END POSITION\n",
    "fruits=[\"apple\",\"orange\",\"mango\"]\n",
    "fruits.append(\"guava\")\n",
    "print(fruits)\n",
    "\n",
    "fruits[1]=\"cherry\"  #--replace with the existing value\n",
    "print(fruits)\n",
    "\n",
    "#INSERT =add the value to index without replacing it\n",
    "fruits.insert(1,\"strawberry\")  #--\n",
    "print(fruits)\n",
    "\n",
    "#REMOVE =REMOVES THE VALUE FROM LIST\n",
    "fruits.remove(\"mango\")  #--removes the value\n",
    "print(fruits)\n",
    "\n",
    "#SORT = SORT THE LIST ALPHABETICALLY\n",
    "fruits.sort()\n",
    "print(fruits)"
   ]
  },
  {
   "cell_type": "code",
   "execution_count": 89,
   "id": "17e42202",
   "metadata": {},
   "outputs": [
    {
     "name": "stdout",
     "output_type": "stream",
     "text": [
      "('ayushi', 35, 'cse')\n",
      "<class 'tuple'>\n"
     ]
    }
   ],
   "source": [
    "#TUPLE DATATYPE= UNMMUTABLE OR UNCHANGABLE\n",
    "\n",
    "tuple1=(\"ayushi\",35,\"cse\")\n",
    "print(tuple1)\n",
    "print(type(tuple1)) #--\"type\" returns the type of variable"
   ]
  },
  {
   "cell_type": "code",
   "execution_count": null,
   "id": "dbca9f15",
   "metadata": {},
   "outputs": [],
   "source": [
    "#TUPLE METHOD\n",
    "number= (23,10,35)\n",
    "#-----overview"
   ]
  },
  {
   "cell_type": "code",
   "execution_count": 97,
   "id": "7e5c9db0",
   "metadata": {},
   "outputs": [
    {
     "ename": "SyntaxError",
     "evalue": "':' expected after dictionary key (287042008.py, line 4)",
     "output_type": "error",
     "traceback": [
      "\u001b[1;36m  Cell \u001b[1;32mIn[97], line 4\u001b[1;36m\u001b[0m\n\u001b[1;33m    \"name\":\"mahindra\",\"abs\",\u001b[0m\n\u001b[1;37m                          ^\u001b[0m\n\u001b[1;31mSyntaxError\u001b[0m\u001b[1;31m:\u001b[0m ':' expected after dictionary key\n"
     ]
    }
   ],
   "source": [
    "#DICTIONARY DATATYPE\n",
    "\n",
    "cars={\n",
    "    \"name\":\"mahindra\",\n",
    "    \"model\":\"thar\",\n",
    "    \"year\":2010\n",
    "}\n",
    "print(cars)\n",
    "print(type(cars))\n",
    "print(cars[\"name\"])\n",
    "print(cars.keys()) #--keys return all the variable of dictionary\n",
    "\n",
    "cars.update({\"year\":2012}) #-- update is use to update the existing value of variables\n",
    "print(cars[\"year\"])\n",
    "\n",
    "cars[\"color\"]=\"black\" #--adding items to the the dictionary\n",
    "print(cars)\n",
    "\n",
    "cars.pop(\"model\") #--removes the item from the dictionary\n",
    "print(cars)"
   ]
  },
  {
   "cell_type": "code",
   "execution_count": 72,
   "id": "0b5e5bf5",
   "metadata": {},
   "outputs": [
    {
     "name": "stdout",
     "output_type": "stream",
     "text": [
      "{1, 2, 3, 4, 5, 6, 'english', 'maths', 'hindi'}\n"
     ]
    }
   ],
   "source": [
    "'''#SETS =AVOIDS/IGNORE  DUPLICATION INT HE SETS\n",
    "sets are:\n",
    ".uncredered\n",
    ".unchangable\n",
    ".not allowed duplication values\n",
    "'''\n",
    "subject={\"hindi\",1,2,\"english\",4,3,\"maths\",5,6,\"hindi\"}\n",
    "print(subject)"
   ]
  },
  {
   "cell_type": "code",
   "execution_count": 94,
   "id": "aae0fdab",
   "metadata": {},
   "outputs": [
    {
     "name": "stdout",
     "output_type": "stream",
     "text": [
      "total peoples present are [1, 2, 3, 4, 5, 6]\n",
      "peoples present are [1, 2, 3, 4]\n",
      "[1, 2, 3, 4, 5, 6, 7, 8]\n"
     ]
    }
   ],
   "source": [
    "people=[1,2,3,4,5,6]\n",
    "print(f\"total peoples present are {people}\")\n",
    "people.remove(6)\n",
    "people.remove(5)\n",
    "print(f\"peoples present are {people}\")\n",
    "people.insert(4,5)\n",
    "people.insert(5,6)\n",
    "people.insert(6,7)\n",
    "people.insert(7,8)\n",
    "print(people)"
   ]
  },
  {
   "cell_type": "code",
   "execution_count": 100,
   "id": "2f313b96",
   "metadata": {},
   "outputs": [
    {
     "name": "stdout",
     "output_type": "stream",
     "text": [
      "{'mem1': 10000, 'mem2': 20000, 'mem3': 30000, 'mem4': 40000}\n",
      "{'mem1': 10000, 'mem2': 20000, 'mem3': 30000, 'mem4': 40000, 'mem5': 5000}\n",
      "{'mem1': 10000, 'mem2': 15000, 'mem3': 6000, 'mem4': 40000, 'mem5': 5000}\n"
     ]
    }
   ],
   "source": [
    "family={\n",
    "    \"mem1\":10000,\n",
    "    \"mem2\":20000,\n",
    "    \"mem3\":30000,\n",
    "    \"mem4\":40000,\n",
    "}\n",
    "print(family)\n",
    "family[\"mem5\"]=5000\n",
    "print(family)\n",
    "family.update({\"mem3\":6000})\n",
    "family.update({\"mem2\":15000})\n",
    "print(family)"
   ]
  },
  {
   "cell_type": "code",
   "execution_count": 113,
   "id": "9a9aeabf",
   "metadata": {},
   "outputs": [
    {
     "name": "stdout",
     "output_type": "stream",
     "text": [
      "<class 'int'>\n",
      "40.0 <class 'str'>\n",
      "40.0\n",
      "<class 'str'>\n",
      "cse\n"
     ]
    }
   ],
   "source": [
    "#TYPE CASTING\n",
    "\n",
    "n=40\n",
    "print(type(n))\n",
    "n=float(n)\n",
    "n=str(n)\n",
    "print(n,type(n))\n",
    "n=\"cse\"\n",
    "print(type(n))\n",
    "print(n)\n"
   ]
  },
  {
   "cell_type": "code",
   "execution_count": 116,
   "id": "25f89c57",
   "metadata": {},
   "outputs": [
    {
     "ename": "NameError",
     "evalue": "name 'abc' is not defined",
     "output_type": "error",
     "traceback": [
      "\u001b[1;31m---------------------------------------------------------------------------\u001b[0m",
      "\u001b[1;31mNameError\u001b[0m                                 Traceback (most recent call last)",
      "Cell \u001b[1;32mIn[116], line 2\u001b[0m\n\u001b[0;32m      1\u001b[0m info\u001b[38;5;241m=\u001b[39m{}\n\u001b[1;32m----> 2\u001b[0m info[\u001b[38;5;124m\"\u001b[39m\u001b[38;5;124mmem\u001b[39m\u001b[38;5;124m\"\u001b[39m]\u001b[38;5;241m=\u001b[39m[abc,nmo,pqr,xyz]\n\u001b[0;32m      3\u001b[0m info[\u001b[38;5;124m\"\u001b[39m\u001b[38;5;124msal\u001b[39m\u001b[38;5;124m\"\u001b[39m]\u001b[38;5;241m=\u001b[39m[\u001b[38;5;241m1000\u001b[39m,\u001b[38;5;241m2000\u001b[39m,\u001b[38;5;241m3000\u001b[39m,\u001b[38;5;241m4000\u001b[39m]\n\u001b[0;32m      4\u001b[0m \u001b[38;5;28mprint\u001b[39m(info)\n",
      "\u001b[1;31mNameError\u001b[0m: name 'abc' is not defined"
     ]
    }
   ],
   "source": [
    "\n",
    "info={}\n",
    "info[\"mem\"]=[abc,nmo,pqr,xyz]\n",
    "info[\"sal\"]=[1000,2000,3000,4000]\n",
    "print(info)"
   ]
  },
  {
   "cell_type": "code",
   "execution_count": null,
   "id": "20165580",
   "metadata": {},
   "outputs": [],
   "source": []
  }
 ],
 "metadata": {
  "kernelspec": {
   "display_name": "Python 3 (ipykernel)",
   "language": "python",
   "name": "python3"
  },
  "language_info": {
   "codemirror_mode": {
    "name": "ipython",
    "version": 3
   },
   "file_extension": ".py",
   "mimetype": "text/x-python",
   "name": "python",
   "nbconvert_exporter": "python",
   "pygments_lexer": "ipython3",
   "version": "3.11.4"
  }
 },
 "nbformat": 4,
 "nbformat_minor": 5
}
