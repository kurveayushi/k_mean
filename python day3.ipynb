{
 "cells": [
  {
   "cell_type": "code",
   "execution_count": 15,
   "id": "1a42137d",
   "metadata": {},
   "outputs": [
    {
     "name": "stdout",
     "output_type": "stream",
     "text": [
      "30\n"
     ]
    }
   ],
   "source": [
    "#FUNCTIONS\n",
    "def Add_function(num1,num2):\n",
    "    result=num1+num2\n",
    "    print(result)\n",
    "Add_function(20,10)"
   ]
  },
  {
   "cell_type": "code",
   "execution_count": 16,
   "id": "514d64a8",
   "metadata": {},
   "outputs": [
    {
     "name": "stdout",
     "output_type": "stream",
     "text": [
      "30\n",
      "10\n",
      "200\n",
      "2.0\n"
     ]
    }
   ],
   "source": [
    "def cal(n1,n2):\n",
    "    print(n1+n2)\n",
    "    print(n1-n2)\n",
    "    print(n1*n2)\n",
    "    print(n1/n2)\n",
    "    \n",
    "cal(20,10)"
   ]
  },
  {
   "cell_type": "code",
   "execution_count": 20,
   "id": "24727e75",
   "metadata": {},
   "outputs": [
    {
     "name": "stdout",
     "output_type": "stream",
     "text": [
      "eligible for vote\n"
     ]
    }
   ],
   "source": [
    "#LOOPS\n",
    "num=18\n",
    "if num>=18:\n",
    "    print(\"eligible for vote\")\n",
    "else:\n",
    "    print(\"not eligible for vote\")"
   ]
  },
  {
   "cell_type": "code",
   "execution_count": 47,
   "id": "124e0225",
   "metadata": {},
   "outputs": [
    {
     "name": "stdout",
     "output_type": "stream",
     "text": [
      "m3 is older than m1 and m2\n"
     ]
    }
   ],
   "source": [
    "def fam( m1,m2,m3):\n",
    "    if m1>m2 & m1>m3:\n",
    "        print(\"m1 is older than m2 and m3\")\n",
    "    elif m2>m1 & m2>m3:\n",
    "        print(\"m2 is older than m1 and m3\")\n",
    "    else:\n",
    "        print(\"m3 is older than m1 and m2\")\n",
    "fam(40,20,50)       "
   ]
  },
  {
   "cell_type": "code",
   "execution_count": 69,
   "id": "c77b2358",
   "metadata": {},
   "outputs": [
    {
     "name": "stdout",
     "output_type": "stream",
     "text": [
      "enter the age of m1:20\n",
      "enter the age of m2:30\n",
      "enter the age of m3:10\n",
      "m2 is older than m1 and m3\n"
     ]
    }
   ],
   "source": [
    "def fam(m1,m2,m3):\n",
    "    if m1>m2 & m1>m3:\n",
    "        print(\"m1 is older than m2 and m3\")\n",
    "    elif m2>m1 & m2>m3:\n",
    "        print(\"m2 is older than m1 and m3\")\n",
    "    else:\n",
    "        print(\"m3 is older than m1 and m2\")\n",
    "        \n",
    "m1=int (input(\"enter the age of m1:\"))\n",
    "m2=int (input(\"enter the age of m2:\"))\n",
    "m3=int (input(\"enter the age of m3:\"))\n",
    "fam(m1,m2,m3)    "
   ]
  },
  {
   "cell_type": "code",
   "execution_count": 79,
   "id": "39335f53",
   "metadata": {},
   "outputs": [
    {
     "name": "stdout",
     "output_type": "stream",
     "text": [
      "0\n",
      "hello world\n",
      "hello world\n",
      "hello world\n",
      "1\n",
      "hello world\n",
      "hello world\n",
      "hello world\n"
     ]
    }
   ],
   "source": [
    "for i in range(2):\n",
    "    print(i)\n",
    "    count=0\n",
    "    while count<3:\n",
    "        print(\"hello world\")\n",
    "        count= count+1"
   ]
  },
  {
   "cell_type": "code",
   "execution_count": 100,
   "id": "015d34a3",
   "metadata": {},
   "outputs": [
    {
     "ename": "IndentationError",
     "evalue": "expected an indented block after 'for' statement on line 2 (3080404408.py, line 3)",
     "output_type": "error",
     "traceback": [
      "\u001b[1;36m  Cell \u001b[1;32mIn[100], line 3\u001b[1;36m\u001b[0m\n\u001b[1;33m    if i%2==0:\u001b[0m\n\u001b[1;37m    ^\u001b[0m\n\u001b[1;31mIndentationError\u001b[0m\u001b[1;31m:\u001b[0m expected an indented block after 'for' statement on line 2\n"
     ]
    }
   ],
   "source": [
    "def veh(v1,v2,v3):\n",
    "    for i in range(veh.len()):\n",
    "          if i%2==0:\n",
    "            print(\"the no is even\")\n",
    "            else:\n",
    "            print(\"the no is odd\")\n",
    "veh(123,246,567)"
   ]
  },
  {
   "cell_type": "code",
   "execution_count": 119,
   "id": "1431d2b6",
   "metadata": {},
   "outputs": [
    {
     "name": "stdout",
     "output_type": "stream",
     "text": [
      "the car no is odd\n",
      "the car no is even\n",
      "the car no is odd\n"
     ]
    }
   ],
   "source": [
    "def week(day):\n",
    "    if day==mon ||\n",
    "def veh(n):\n",
    "    if n%2==0:\n",
    "            print(\"the car no is even\")\n",
    "    else:\n",
    "            print(\"the car no is odd\")\n",
    "n=[123,246,567]  \n",
    "day=[\"mon\",\"tue\",\"wed\",\"thur\",\"fri\",\"sat\",\"sun\"]\n",
    "for i in range(len(n)):\n",
    "    veh(n[i],)\n",
    "    for j in range(len(day)):\n",
    "        week(day[j])"
   ]
  },
  {
   "cell_type": "code",
   "execution_count": null,
   "id": "8966539c",
   "metadata": {},
   "outputs": [],
   "source": []
  },
  {
   "cell_type": "code",
   "execution_count": null,
   "id": "8f3fa63d",
   "metadata": {},
   "outputs": [],
   "source": []
  }
 ],
 "metadata": {
  "kernelspec": {
   "display_name": "Python 3 (ipykernel)",
   "language": "python",
   "name": "python3"
  },
  "language_info": {
   "codemirror_mode": {
    "name": "ipython",
    "version": 3
   },
   "file_extension": ".py",
   "mimetype": "text/x-python",
   "name": "python",
   "nbconvert_exporter": "python",
   "pygments_lexer": "ipython3",
   "version": "3.11.4"
  }
 },
 "nbformat": 4,
 "nbformat_minor": 5
}
